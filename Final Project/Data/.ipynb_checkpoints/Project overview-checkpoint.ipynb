{
 "cells": [
  {
   "cell_type": "markdown",
   "id": "85b74738",
   "metadata": {},
   "source": [
    "##  PROJECT OVERVIEW"
   ]
  },
  {
   "cell_type": "markdown",
   "id": "3491827f",
   "metadata": {},
   "source": [
    "### Project Goal"
   ]
  },
  {
   "cell_type": "code",
   "execution_count": null,
   "id": "0f604502",
   "metadata": {},
   "outputs": [],
   "source": [
    "Predict the cancellation of Hotel Booking and Hotel Booking Demand"
   ]
  },
  {
   "cell_type": "markdown",
   "id": "839637e8",
   "metadata": {},
   "source": [
    "### Data Source"
   ]
  },
  {
   "cell_type": "markdown",
   "id": "bbecadd3",
   "metadata": {},
   "source": [
    "### https://www.kaggle.com/datasets/mojtaba142/hotel-booking/metadata"
   ]
  },
  {
   "cell_type": "markdown",
   "id": "87f81971",
   "metadata": {},
   "source": [
    "### Data"
   ]
  },
  {
   "cell_type": "markdown",
   "id": "fa6c0bd9",
   "metadata": {},
   "source": [
    "* Observations = 119,390\n",
    "* Variables = 36\n",
    "* Years = 2015-2017"
   ]
  },
  {
   "cell_type": "markdown",
   "id": "6d6efa1b",
   "metadata": {},
   "source": [
    "# Data Cleaning\n",
    "* Check the data types of columns, fixing incorrect ones\n",
    "* Filtering null values and zeros.\n",
    "* [x ] Removing duplicates\n",
    "* Removing outliers\n",
    "* Checking multicolinearity with heat map\n"
   ]
  },
  {
   "cell_type": "markdown",
   "id": "a36bcbc8",
   "metadata": {},
   "source": [
    "## EDA"
   ]
  },
  {
   "cell_type": "markdown",
   "id": "aa7b18ae",
   "metadata": {},
   "source": [
    " * Check distribution of features\n",
    " * Statistics for mean, stdev, etc\n",
    " * Price vs. longitude and latitude"
   ]
  },
  {
   "cell_type": "markdown",
   "id": "3e9e130e",
   "metadata": {},
   "source": [
    "### Modelling"
   ]
  },
  {
   "cell_type": "markdown",
   "id": "03921840",
   "metadata": {},
   "source": [
    " * Split data into numerical and categorical columns\n",
    " * Identify target variable and test and train data\n",
    " * Transform the data when necessary (etc log transform)\n",
    " * Build X,y regression model\n",
    " * Try Classification models, and check what best fit to analyse data"
   ]
  }
 ],
 "metadata": {
  "kernelspec": {
   "display_name": "Python 3 (ipykernel)",
   "language": "python",
   "name": "python3"
  },
  "language_info": {
   "codemirror_mode": {
    "name": "ipython",
    "version": 3
   },
   "file_extension": ".py",
   "mimetype": "text/x-python",
   "name": "python",
   "nbconvert_exporter": "python",
   "pygments_lexer": "ipython3",
   "version": "3.9.13"
  }
 },
 "nbformat": 4,
 "nbformat_minor": 5
}
