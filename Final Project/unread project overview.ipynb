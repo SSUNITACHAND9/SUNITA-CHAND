{
 "cells": [
  {
   "cell_type": "markdown",
   "id": "3e51125a",
   "metadata": {},
   "source": [
    "##  PROJECT OVERVIEW"
   ]
  },
  {
   "cell_type": "markdown",
   "id": "db4b0278",
   "metadata": {},
   "source": [
    "### Project Goal"
   ]
  },
  {
   "cell_type": "code",
   "execution_count": null,
   "id": "6a4ab890",
   "metadata": {},
   "outputs": [],
   "source": [
    "Predict the cancellation of Hotel Booking and Hotel Booking Demand"
   ]
  },
  {
   "cell_type": "markdown",
   "id": "d80448e9",
   "metadata": {},
   "source": [
    "### Data Source"
   ]
  },
  {
   "cell_type": "markdown",
   "id": "36abe4c5",
   "metadata": {},
   "source": [
    "### https://www.kaggle.com/datasets/mojtaba142/hotel-booking/metadata"
   ]
  },
  {
   "cell_type": "markdown",
   "id": "bcde223d",
   "metadata": {},
   "source": [
    "### Data"
   ]
  },
  {
   "cell_type": "markdown",
   "id": "a0ca8b54",
   "metadata": {},
   "source": [
    "* Observations = 119,390\n",
    "* Variables = 36\n",
    "* Years = 2015-2017"
   ]
  },
  {
   "cell_type": "markdown",
   "id": "df5b08b4",
   "metadata": {},
   "source": [
    "# Data Cleaning\n",
    "* Check the data types of columns, fixing incorrect ones\n",
    "* Filtering null values and zeros.\n",
    "* [x ] Removing duplicates\n",
    "* Removing outliers\n",
    "* Checking multicolinearity with heat map\n"
   ]
  },
  {
   "cell_type": "markdown",
   "id": "bed50610",
   "metadata": {},
   "source": [
    "## EDA"
   ]
  },
  {
   "cell_type": "markdown",
   "id": "e19de285",
   "metadata": {},
   "source": [
    " * Check distribution of features\n",
    " * Statistics for mean, stdev, etc\n",
    " * Price vs. longitude and latitude"
   ]
  },
  {
   "cell_type": "markdown",
   "id": "334ba5c5",
   "metadata": {},
   "source": [
    "### Modelling"
   ]
  },
  {
   "cell_type": "markdown",
   "id": "3c1355c3",
   "metadata": {},
   "source": [
    " * Split data into numerical and categorical columns\n",
    " * Identify target variable and test and train data\n",
    " * Transform the data when necessary (etc log transform)\n",
    " * Build X,y regression model\n",
    " * Try Classification models, and check what best fit to analyse data"
   ]
  }
 ],
 "metadata": {
  "kernelspec": {
   "display_name": "Python 3 (ipykernel)",
   "language": "python",
   "name": "python3"
  },
  "language_info": {
   "codemirror_mode": {
    "name": "ipython",
    "version": 3
   },
   "file_extension": ".py",
   "mimetype": "text/x-python",
   "name": "python",
   "nbconvert_exporter": "python",
   "pygments_lexer": "ipython3",
   "version": "3.9.13"
  }
 },
 "nbformat": 4,
 "nbformat_minor": 5
}
