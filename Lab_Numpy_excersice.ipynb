{
 "cells": [
  {
   "cell_type": "markdown",
   "id": "b6626bfb",
   "metadata": {},
   "source": [
    "#### 1. Import the numpy package under the name `np` (★☆☆)"
   ]
  },
  {
   "cell_type": "markdown",
   "id": "24fad3ea",
   "metadata": {},
   "source": [
    "import numpy as np"
   ]
  },
  {
   "cell_type": "markdown",
   "id": "b6d3ff2b",
   "metadata": {},
   "source": [
    "#### 2. Create a null vector of size 10 (★☆☆)"
   ]
  },
  {
   "cell_type": "code",
   "execution_count": 12,
   "id": "c9d55d21",
   "metadata": {},
   "outputs": [
    {
     "name": "stdout",
     "output_type": "stream",
     "text": [
      "[0. 0. 0. 0. 0. 0. 0. 0. 0. 0.]\n"
     ]
    }
   ],
   "source": [
    "x = np.zeros(10)\n",
    "print(x)"
   ]
  },
  {
   "cell_type": "markdown",
   "id": "e04a5b9c",
   "metadata": {},
   "source": [
    "#### 3. Create a null vector of size 10 but the fifth value which is 1 (★☆☆)"
   ]
  },
  {
   "cell_type": "code",
   "execution_count": 21,
   "id": "0e3c98ce",
   "metadata": {},
   "outputs": [
    {
     "name": "stdout",
     "output_type": "stream",
     "text": [
      "1.0\n"
     ]
    }
   ],
   "source": [
    "x[4] = 1\n",
    "print (x[4])"
   ]
  },
  {
   "cell_type": "markdown",
   "id": "8a2ee8e1",
   "metadata": {},
   "source": [
    "#### 4. Create a vector with values ranging from 10 to 49 (★☆☆)"
   ]
  },
  {
   "cell_type": "code",
   "execution_count": 26,
   "id": "e5f9abde",
   "metadata": {},
   "outputs": [
    {
     "name": "stdout",
     "output_type": "stream",
     "text": [
      "[10 11 12 13 14 15 16 17 18 19 20 21 22 23 24 25 26 27 28 29 30 31 32 33\n",
      " 34 35 36 37 38 39 40 41 42 43 44 45 46 47 48]\n"
     ]
    }
   ],
   "source": [
    "n = np.arange(10,49)\n",
    "print(n)"
   ]
  },
  {
   "cell_type": "markdown",
   "id": "710afeeb",
   "metadata": {},
   "source": [
    "#### 5. Create a 3x3 matrix with values ranging from 0 to 8 (★☆☆)"
   ]
  },
  {
   "cell_type": "code",
   "execution_count": 33,
   "id": "be676952",
   "metadata": {},
   "outputs": [
    {
     "name": "stdout",
     "output_type": "stream",
     "text": [
      "[[0 1 2]\n",
      " [3 4 5]\n",
      " [6 7 8]]\n"
     ]
    }
   ],
   "source": [
    "a = np.arange(0,9).reshape(3,3)\n",
    "print(a)"
   ]
  },
  {
   "cell_type": "markdown",
   "id": "e6361a74",
   "metadata": {},
   "source": [
    "#### 6. Find indices of non-zero elements from [1,2,0,0,4,0] (★☆☆)"
   ]
  },
  {
   "cell_type": "code",
   "execution_count": 37,
   "id": "25762546",
   "metadata": {},
   "outputs": [
    {
     "name": "stdout",
     "output_type": "stream",
     "text": [
      "[1 2 4]\n"
     ]
    }
   ],
   "source": [
    "x = np.array([1,2,0,0,4,0])\n",
    "print (x[x !=0])"
   ]
  },
  {
   "cell_type": "markdown",
   "id": "ff6c7108",
   "metadata": {},
   "source": [
    "#### 7. Create a 3x3 identity matrix (★☆☆)"
   ]
  },
  {
   "cell_type": "code",
   "execution_count": 39,
   "id": "434c5200",
   "metadata": {},
   "outputs": [
    {
     "name": "stdout",
     "output_type": "stream",
     "text": [
      "[[1. 0. 0.]\n",
      " [0. 1. 0.]\n",
      " [0. 0. 1.]]\n"
     ]
    }
   ],
   "source": [
    "m = np.eye(3)\n",
    "print (m)"
   ]
  },
  {
   "cell_type": "markdown",
   "id": "e7e76903",
   "metadata": {},
   "source": [
    "#### 8. Create a 3x3x3 array with random values (★☆☆)"
   ]
  },
  {
   "cell_type": "code",
   "execution_count": 43,
   "id": "c5d42858",
   "metadata": {},
   "outputs": [
    {
     "name": "stdout",
     "output_type": "stream",
     "text": [
      "[[[0.72145414 0.9622279  0.77658226]\n",
      "  [0.04641159 0.71197206 0.23481151]\n",
      "  [0.85404445 0.254418   0.61414349]]\n",
      "\n",
      " [[0.72035227 0.0330997  0.85239497]\n",
      "  [0.47224997 0.1969646  0.50047702]\n",
      "  [0.21519216 0.34787445 0.34546752]]\n",
      "\n",
      " [[0.00588578 0.21879059 0.87143651]\n",
      "  [0.27011378 0.2113213  0.03334525]\n",
      "  [0.26603453 0.26134118 0.16646075]]]\n"
     ]
    }
   ],
   "source": [
    "b = np.random.random((3,3,3))\n",
    "print (b)"
   ]
  },
  {
   "cell_type": "markdown",
   "id": "65266288",
   "metadata": {},
   "source": [
    "#### 9. Create a 10x10 array with random values and find the minimum and maximum values (★☆☆)"
   ]
  },
  {
   "cell_type": "code",
   "execution_count": 47,
   "id": "47f823a8",
   "metadata": {},
   "outputs": [
    {
     "name": "stdout",
     "output_type": "stream",
     "text": [
      "0.03591191312633257 0.9949185847976046\n"
     ]
    }
   ],
   "source": [
    "c = np.random.random((10,10))\n",
    "cmin,cmax = c.min(), c.max()\n",
    "print (cmin, cmax)"
   ]
  },
  {
   "cell_type": "markdown",
   "id": "a20fee2c",
   "metadata": {},
   "source": [
    "#### 10. Create a random vector of size 30 and find the mean value (★☆☆)"
   ]
  },
  {
   "cell_type": "code",
   "execution_count": 51,
   "id": "8ee59570",
   "metadata": {},
   "outputs": [
    {
     "name": "stdout",
     "output_type": "stream",
     "text": [
      "0.5245517396753319\n"
     ]
    }
   ],
   "source": [
    "d = np.random.random(30)\n",
    "mean = d.mean()\n",
    "print (mean)"
   ]
  },
  {
   "cell_type": "markdown",
   "id": "a2eda807",
   "metadata": {},
   "source": [
    "#### 11. Create a 5x5 matrix with values 1,2,3,4 just below the diagonal (★☆☆)"
   ]
  },
  {
   "cell_type": "code",
   "execution_count": 70,
   "id": "c7487c22",
   "metadata": {},
   "outputs": [
    {
     "name": "stdout",
     "output_type": "stream",
     "text": [
      "[[0 1 0 0 0]\n",
      " [0 0 2 0 0]\n",
      " [0 0 0 3 0]\n",
      " [0 0 0 0 4]\n",
      " [0 0 0 0 0]]\n"
     ]
    }
   ],
   "source": [
    "e = np.diag(1+np.arange(4),k=1)\n",
    "print (e)"
   ]
  },
  {
   "cell_type": "markdown",
   "id": "e7286939",
   "metadata": {},
   "source": [
    "#### 12. Normalize a 5x5 random matrix (★☆☆)"
   ]
  },
  {
   "cell_type": "code",
   "execution_count": 76,
   "id": "f48a9464",
   "metadata": {},
   "outputs": [
    {
     "name": "stdout",
     "output_type": "stream",
     "text": [
      "[[0.87565358 0.79499953 0.05539936 0.05104427 0.96810766]\n",
      " [0.50169447 0.20766885 1.         0.17363655 0.14291364]\n",
      " [0.2573922  0.14431772 0.26066424 0.75567078 0.16413446]\n",
      " [0.34921034 0.61818291 0.45319643 0.77876845 0.02833218]\n",
      " [0.         0.6882111  0.29161094 0.12253822 0.06620491]]\n"
     ]
    }
   ],
   "source": [
    "f = np.random.random((5,5))\n",
    "fmax, fmin = f.max(), f.min()\n",
    "f = (f - fmin)/(fmax - fmin)\n",
    "print(f)"
   ]
  },
  {
   "cell_type": "markdown",
   "id": "86fa7c94",
   "metadata": {},
   "source": [
    "#### 13. How to find common values between two arrays? (★☆☆)"
   ]
  },
  {
   "cell_type": "code",
   "execution_count": 77,
   "id": "e79b6c84",
   "metadata": {},
   "outputs": [
    {
     "name": "stdout",
     "output_type": "stream",
     "text": [
      "Array1:  [ 0 10 20 40 60]\n",
      "Array2:  [10, 30, 40]\n",
      "Common values between two arrays:\n",
      "[10 40]\n"
     ]
    }
   ],
   "source": [
    "array1 = np.array([0, 10, 20, 40, 60])\n",
    "print(\"Array1: \",array1)\n",
    "array2 = [10, 30, 40]\n",
    "print(\"Array2: \",array2)\n",
    "print(\"Common values between two arrays:\")\n",
    "print(np.intersect1d(array1, array2))"
   ]
  },
  {
   "cell_type": "markdown",
   "id": "bb1fb6b6",
   "metadata": {},
   "source": [
    "#### 14. Create a random vector of size 10 and sort it (★★☆)"
   ]
  },
  {
   "cell_type": "code",
   "execution_count": 78,
   "id": "5b4fe607",
   "metadata": {},
   "outputs": [
    {
     "name": "stdout",
     "output_type": "stream",
     "text": [
      "[0.77685941 0.58265592 0.58660774 0.84590816 0.57148934 0.29403116\n",
      " 0.42590794 0.05971857 0.96348306 0.22375782]\n",
      "Sorted array:\n",
      "[0.05971857 0.22375782 0.29403116 0.42590794 0.57148934 0.58265592\n",
      " 0.58660774 0.77685941 0.84590816 0.96348306]\n"
     ]
    }
   ],
   "source": [
    "g = np.random.random(10)\n",
    "print(g)\n",
    "g.sort()\n",
    "print(\"Sorted array:\")\n",
    "print(g)"
   ]
  },
  {
   "cell_type": "markdown",
   "id": "c3154af0",
   "metadata": {},
   "source": [
    "#### 15. Create random vector of size 10 and replace the maximum value by 0 (★★☆)"
   ]
  },
  {
   "cell_type": "code",
   "execution_count": 79,
   "id": "35573631",
   "metadata": {},
   "outputs": [
    {
     "name": "stdout",
     "output_type": "stream",
     "text": [
      "Maximum value replaced by -1:\n",
      "[-1.          0.87978803  0.48769753  0.46251043  0.66023497  0.16469869\n",
      "  0.58283745  0.84708451  0.43949397  0.42333891]\n"
     ]
    }
   ],
   "source": [
    "g = np.random.random(10)\n",
    "g[g.argmax()] = -1\n",
    "print(\"Maximum value replaced by -1:\")\n",
    "print(g)"
   ]
  },
  {
   "cell_type": "markdown",
   "id": "f4909963",
   "metadata": {},
   "source": [
    "#### 16. Subtract the mean of each row of a matrix (★★☆)"
   ]
  },
  {
   "cell_type": "code",
   "execution_count": 80,
   "id": "e5004ce1",
   "metadata": {},
   "outputs": [
    {
     "name": "stdout",
     "output_type": "stream",
     "text": [
      "[[0.04268809 0.25944394 0.50810615 0.14393192 0.12090803 0.10386341\n",
      "  0.2108965  0.52012318 0.12094349 0.11790485]\n",
      " [0.96479051 0.05125637 0.48199027 0.84425141 0.28351815 0.18208547\n",
      "  0.14791976 0.51968637 0.45269001 0.59762945]\n",
      " [0.89490242 0.36760029 0.58633024 0.20719377 0.73144766 0.16673687\n",
      "  0.00703954 0.57176406 0.11673649 0.26875744]\n",
      " [0.2505203  0.35862921 0.5797754  0.44476359 0.43912815 0.94412515\n",
      "  0.02132664 0.39342995 0.2844828  0.9846713 ]\n",
      " [0.21470014 0.39515532 0.84436761 0.56745288 0.39113861 0.95436531\n",
      "  0.83425632 0.94329334 0.2627275  0.1341402 ]]\n",
      "\n",
      "Subtract the mean of each row of the said matrix:\n",
      "\n",
      "[[-1.72192869e-01  4.45629851e-02  2.93225192e-01 -7.09490396e-02\n",
      "  -9.39729282e-02 -1.11017541e-01 -3.98445821e-03  3.05242228e-01\n",
      "  -9.39374651e-02 -9.69761053e-02]\n",
      " [ 5.12208734e-01 -4.01325410e-01  2.94084966e-02  3.91669637e-01\n",
      "  -1.69063625e-01 -2.70496306e-01 -3.04662016e-01  6.71045881e-02\n",
      "   1.08234002e-04  1.45047669e-01]\n",
      " [ 5.03051545e-01 -2.42505867e-02  1.94479361e-01 -1.84657109e-01\n",
      "   3.39596779e-01 -2.25114007e-01 -3.84811342e-01  1.79913183e-01\n",
      "  -2.75114387e-01 -1.23093436e-01]\n",
      " [-2.19564953e-01 -1.11456038e-01  1.09690154e-01 -2.53216607e-02\n",
      "  -3.09570965e-02  4.74039897e-01 -4.48758607e-01 -7.66552993e-02\n",
      "  -1.85602448e-01  5.14586053e-01]\n",
      " [-3.39459585e-01 -1.59004401e-01  2.90207885e-01  1.32931557e-02\n",
      "  -1.63021116e-01  4.00205592e-01  2.80096601e-01  3.89133614e-01\n",
      "  -2.91432225e-01 -4.20019520e-01]]\n"
     ]
    }
   ],
   "source": [
    "X = np.random.rand(5, 10)\n",
    "print(X)\n",
    "print(\"\\nSubtract the mean of each row of the said matrix:\\n\")\n",
    "Y = X - X.mean(axis=1, keepdims=True)\n",
    "print(Y)"
   ]
  },
  {
   "cell_type": "markdown",
   "id": "a13186f2",
   "metadata": {},
   "source": [
    "#### 17. How to get the n largest values of an array (★★★)"
   ]
  },
  {
   "cell_type": "code",
   "execution_count": 81,
   "id": "b92de23b",
   "metadata": {},
   "outputs": [
    {
     "name": "stdout",
     "output_type": "stream",
     "text": [
      "Original array:\n",
      "[0 1 2 3 4 5 6 7 8 9]\n",
      "[9]\n"
     ]
    }
   ],
   "source": [
    "g = np.arange(10)\n",
    "print(\"Original array:\")\n",
    "print(g)\n",
    "np.random.shuffle(g)\n",
    "n = 1\n",
    "print (g[np.argsort(g)[-n:]])"
   ]
  },
  {
   "cell_type": "markdown",
   "id": "8aaeb3b5",
   "metadata": {},
   "source": [
    "#### 18. Create a random 5*3 matrix and replace items that are larger than 4 by their squares ( Example:  6 --> 36) "
   ]
  }
 ],
 "metadata": {
  "kernelspec": {
   "display_name": "Python 3 (ipykernel)",
   "language": "python",
   "name": "python3"
  },
  "language_info": {
   "codemirror_mode": {
    "name": "ipython",
    "version": 3
   },
   "file_extension": ".py",
   "mimetype": "text/x-python",
   "name": "python",
   "nbconvert_exporter": "python",
   "pygments_lexer": "ipython3",
   "version": "3.9.12"
  }
 },
 "nbformat": 4,
 "nbformat_minor": 5
}
