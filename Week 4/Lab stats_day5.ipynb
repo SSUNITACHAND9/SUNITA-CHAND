{
 "cells": [
  {
   "cell_type": "markdown",
   "id": "e7f770fb",
   "metadata": {},
   "source": [
    "# Lab_Hypothesis_Testing\n",
    "It is assumed that the mean systolic blood pressure is μ = 120 mm Hg. \n",
    "In the Honolulu Heart Study, a sample of n = 100 people had an average systolic blood pressure of 130.1 mm Hg with\n",
    "a standard deviation of 21.21 mm Hg. Is the group significantly different (with respect to systolic blood pressure!)from the regular population?\n",
    "\n",
    "Set up the hypothesis test.\n",
    "Write down all the steps followed for setting up the test.\n",
    "Calculate the test statistic by hand and also code it in Python. It should be 4.76190. What decision can you make based on this calculated value?"
   ]
  },
  {
   "cell_type": "code",
   "execution_count": 2,
   "id": "1c62e73c",
   "metadata": {},
   "outputs": [],
   "source": [
    "import numpy as np\n",
    "import pandas as pd\n",
    "import scipy.stats as stats\n",
    "import matplotlib.pyplot as plt\n",
    "import seaborn as sns\n",
    "\n",
    "%matplotlib inline"
   ]
  },
  {
   "cell_type": "markdown",
   "id": "ffc1cd8a",
   "metadata": {},
   "source": [
    "Testing means (with 1 sample)\n",
    "Is the group significantly different (with respect to systolic blood pressure!)from the regular population? :(\n",
    "\n",
    "H0: mu=130.1\n",
    "H1: mu ≠ 130.1"
   ]
  },
  {
   "cell_type": "code",
   "execution_count": 3,
   "id": "097e4d6c",
   "metadata": {},
   "outputs": [
    {
     "data": {
      "text/plain": [
       "0      1.557804\n",
       "1      9.180364\n",
       "2      4.100237\n",
       "3      2.888828\n",
       "4      0.658875\n",
       "         ...   \n",
       "995    1.761109\n",
       "996    1.779752\n",
       "997    2.469872\n",
       "998    2.306851\n",
       "999    2.831018\n",
       "Length: 1000, dtype: float64"
      ]
     },
     "execution_count": 3,
     "metadata": {},
     "output_type": "execute_result"
    }
   ],
   "source": [
    "np.random.seed(42)\n",
    "\n",
    "r1 = stats.expon.rvs(size=500, loc = 0.15, scale = 3 )\n",
    "r2 =stats.norm.rvs(size=500,loc=2,scale = 0.45)\n",
    "pop = pd.Series(np.concatenate([r1,r2]))\n",
    "samp_size = 80 # 80 > 30 -> Normal distribution.\n",
    "pop"
   ]
  },
  {
   "cell_type": "code",
   "execution_count": 4,
   "id": "012fc463",
   "metadata": {},
   "outputs": [
    {
     "data": {
      "text/plain": [
       "<AxesSubplot:>"
      ]
     },
     "execution_count": 4,
     "metadata": {},
     "output_type": "execute_result"
    },
    {
     "data": {
      "image/png": "[encoded data removed]",
      "text/plain": [
       "<Figure size 432x288 with 1 Axes>"
      ]
     },
     "metadata": {
      "needs_background": "light"
     },
     "output_type": "display_data"
    }
   ],
   "source": [
    "pop.hist()"
   ]
  },
  {
   "cell_type": "code",
   "execution_count": 6,
   "id": "9a0cf25b",
   "metadata": {},
   "outputs": [
    {
     "data": {
      "text/plain": [
       "<AxesSubplot:>"
      ]
     },
     "execution_count": 6,
     "metadata": {},
     "output_type": "execute_result"
    },
    {
     "data": {
      "image/png": "[encoded data removed]",
      "text/plain": [
       "<Figure size 432x288 with 1 Axes>"
      ]
     },
     "metadata": {
      "needs_background": "light"
     },
     "output_type": "display_data"
    }
   ],
   "source": [
    "systolic_bp = pop.sample(samp_size)\n",
    "systolic_bp.hist()"
   ]
  },
  {
   "cell_type": "code",
   "execution_count": 7,
   "id": "b001de69",
   "metadata": {},
   "outputs": [
    {
     "data": {
      "text/plain": [
       "<AxesSubplot:>"
      ]
     },
     "execution_count": 7,
     "metadata": {},
     "output_type": "execute_result"
    },
    {
     "data": {
      "image/png": "[encoded data removed]",
      "text/plain": [
       "<Figure size 432x288 with 1 Axes>"
      ]
     },
     "metadata": {},
     "output_type": "display_data"
    }
   ],
   "source": [
    "sns.set_theme()\n",
    "pop.hist()"
   ]
  },
  {
   "cell_type": "code",
   "execution_count": 8,
   "id": "6057b02c",
   "metadata": {},
   "outputs": [
    {
     "name": "stdout",
     "output_type": "stream",
     "text": [
      "Sample mean of systolic_bp: 2.50\n"
     ]
    }
   ],
   "source": [
    "# Honolulu Heart Study say that systolic blood pressure on average 130.1 mm Hg \n",
    "# The mean of our sample, however, is:\n",
    "systolic_bp_mean = systolic_bp.mean()\n",
    "print(\"Sample mean of systolic_bp: {:.2f}\".format(systolic_bp_mean))"
   ]
  },
  {
   "cell_type": "code",
   "execution_count": 9,
   "id": "b782e20f",
   "metadata": {},
   "outputs": [
    {
     "data": {
      "text/plain": [
       "0.24236539064525733"
      ]
     },
     "execution_count": 9,
     "metadata": {},
     "output_type": "execute_result"
    }
   ],
   "source": [
    "# Let's compute the standard error:\n",
    "sem = np.std(pop)/np.sqrt(samp_size)\n",
    "sem"
   ]
  },
  {
   "cell_type": "markdown",
   "id": "14249936",
   "metadata": {},
   "source": [
    "#z distribution is a standard normal distribution"
   ]
  },
  {
   "cell_type": "code",
   "execution_count": 10,
   "id": "db9ea497",
   "metadata": {},
   "outputs": [
    {
     "name": "stdout",
     "output_type": "stream",
     "text": [
      "The z score of our sample is: 2.08\n"
     ]
    }
   ],
   "source": [
    "z = (systolic_bp_mean-2)/sem\n",
    "print(\"The z score of our sample is: {:.2f}\".format(z))"
   ]
  },
  {
   "cell_type": "markdown",
   "id": "f70e436a",
   "metadata": {},
   "source": [
    "#fixed confidence level to 95% which is the same as saying \n",
    "\n",
    "#Now we need to find out for which value on the x axis of a normal distribution we get 0.95 of the total area."
   ]
  },
  {
   "cell_type": "code",
   "execution_count": 11,
   "id": "f2e32cd8",
   "metadata": {},
   "outputs": [
    {
     "name": "stdout",
     "output_type": "stream",
     "text": [
      "The critical value corresponding to a 0.95 area of a normal distribution is: 1.64\n"
     ]
    }
   ],
   "source": [
    "zc = stats.norm.ppf(0.95) # 0.95 is the confidence level.\n",
    "print(\"The critical value corresponding to a 0.95 area of a normal distribution is: {:.2f}\".format(zc))"
   ]
  },
  {
   "cell_type": "markdown",
   "id": "abaad353",
   "metadata": {},
   "source": [
    "#Using a higher confindence level. Set it to 98%."
   ]
  },
  {
   "cell_type": "code",
   "execution_count": 12,
   "id": "de22c7a7",
   "metadata": {},
   "outputs": [
    {
     "name": "stdout",
     "output_type": "stream",
     "text": [
      "The critical value corresponding to a 0.95 area of a normal distribution is: 2.05\n"
     ]
    }
   ],
   "source": [
    "zc = stats.norm.ppf(0.98)\n",
    "print(\"The critical value corresponding to a 0.95 area of a normal distribution is: {:.2f}\".format(zc))"
   ]
  },
  {
   "cell_type": "markdown",
   "id": "2d1cc62b",
   "metadata": {},
   "source": [
    "#Set the confidence level to 0.999"
   ]
  },
  {
   "cell_type": "code",
   "execution_count": 14,
   "id": "8358a41c",
   "metadata": {},
   "outputs": [
    {
     "name": "stdout",
     "output_type": "stream",
     "text": [
      "The critical value corresponding to a 0.95 area of a normal distribution is: 3.09\n"
     ]
    }
   ],
   "source": [
    "zc = stats.norm.ppf(0.999)\n",
    "print(\"The critical value corresponding to a 0.95 area of a normal distribution is: {:.2f}\".format(zc))"
   ]
  },
  {
   "cell_type": "code",
   "execution_count": 19,
   "id": "bcc9cffb",
   "metadata": {},
   "outputs": [],
   "source": [
    "n = 100 # 100 > 30 -> Normal distribution\n",
    "# Ho: \\mu = 130.1\n",
    "# H1: mean ≠ 130.1\n",
    "\n",
    "sample_mean = 120\n",
    "pop_mean = 130.1\n",
    "pop_std_dev = 21.21"
   ]
  },
  {
   "cell_type": "code",
   "execution_count": 20,
   "id": "cca9f8ca",
   "metadata": {},
   "outputs": [
    {
     "name": "stdout",
     "output_type": "stream",
     "text": [
      "Our z score is: -4.76\n"
     ]
    }
   ],
   "source": [
    "z = ( sample_mean - pop_mean ) / ( pop_std_dev / np.sqrt(100) )\n",
    "print(\"Our z score is: {:.2f}\".format(z))"
   ]
  },
  {
   "cell_type": "markdown",
   "id": "19e40045",
   "metadata": {},
   "source": [
    "#Let's set the confidence level to 95% = 0.95\n",
    "\n",
    "#Two sided: Ha: μ ≠ 120 mm Hg"
   ]
  },
  {
   "cell_type": "code",
   "execution_count": 21,
   "id": "8a6a70ce",
   "metadata": {},
   "outputs": [
    {
     "name": "stdout",
     "output_type": "stream",
     "text": [
      "Our zc score is: 1.96\n"
     ]
    }
   ],
   "source": [
    "zc = stats.norm.ppf(1-(0.05/2))\n",
    "print(\"Our zc score is: {:.2f}\".format(zc))"
   ]
  },
  {
   "cell_type": "markdown",
   "id": "4b816ef7",
   "metadata": {},
   "source": [
    "# conculsion: we reject the null hypothesis. average systolic blood pressure is not eqauls to 120 mm Hg"
   ]
  },
  {
   "cell_type": "code",
   "execution_count": null,
   "id": "45b34567",
   "metadata": {},
   "outputs": [],
   "source": []
  }
 ],
 "metadata": {
  "kernelspec": {
   "display_name": "Python 3 (ipykernel)",
   "language": "python",
   "name": "python3"
  },
  "language_info": {
   "codemirror_mode": {
    "name": "ipython",
    "version": 3
   },
   "file_extension": ".py",
   "mimetype": "text/x-python",
   "name": "python",
   "nbconvert_exporter": "python",
   "pygments_lexer": "ipython3",
   "version": "3.9.12"
  }
 },
 "nbformat": 4,
 "nbformat_minor": 5
}
