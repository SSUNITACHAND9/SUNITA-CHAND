{
 "cells": [
  {
   "cell_type": "markdown",
   "id": "3fcbe2d3",
   "metadata": {},
   "source": [
    "## Activity # Transformation.Modelling¶\n",
    " use the file Data_Marketing_Customer_Analysis_Round3.csv\n",
    "\n",
    "1. check if there are highly correlated features and drop them if there are any.\n",
    "2. One Hot/Label Encoding of the categorical variables in the categoricals data frame that you created in Activity  ( Hint: check Dropfirst option).\n",
    "3. for the first iteration, we will focus on the numericals data (numericals data frame) as our data source.\n",
    "(optional) remove the outliers from the numerical columns.\n",
    "4. X-y split (y is the target variable which is the total claim amount)"
   ]
  },
  {
   "cell_type": "code",
   "execution_count": 4,
   "id": "f90d1e5d",
   "metadata": {},
   "outputs": [],
   "source": [
    "import numpy as np\n",
    "import pandas as pd\n",
    "import matplotlib.pyplot as plt\n",
    "%matplotlib inline\n",
    "import seaborn as sns\n",
    "from sklearn.preprocessing import StandardScaler\n",
    "from sklearn.preprocessing import quantile_transform\n",
    "from sklearn.preprocessing import minmax_scale\n",
    "from sklearn.preprocessing import OneHotEncoder  ##. better to use dummy from pandas \n",
    "from sklearn.preprocessing import PowerTransformer\n",
    "from scipy.stats import boxcox\n",
    "from sklearn.linear_model import LinearRegression\n",
    "from sklearn.model_selection import train_test_split\n",
    "import statsmodels.api as sm\n",
    "from scipy.stats import boxcox\n",
    "from sklearn.model_selection import train_test_split\n",
    "from sklearn.metrics import r2_score\n",
    "from sklearn.metrics import mean_squared_error as mse\n",
    "from sklearn.metrics import mean_absolute_error as mae\n",
    "pd.options.display.max_rows = 50\n",
    "## Install xlrd package to load Excel files\n",
    "# conda install openpyxl\n",
    "## conda install xlrd"
   ]
  },
  {
   "cell_type": "code",
   "execution_count": 6,
   "id": "261a41a6",
   "metadata": {},
   "outputs": [],
   "source": [
    "dm = pd.read_csv('../Data/Data_Marketing_Customer_Analysis_Round3.csv')"
   ]
  },
  {
   "cell_type": "code",
   "execution_count": 7,
   "id": "9c611696",
   "metadata": {},
   "outputs": [
    {
     "data": {
      "text/html": [
       "<div>\n",
       "<style scoped>\n",
       "    .dataframe tbody tr th:only-of-type {\n",
       "        vertical-align: middle;\n",
       "    }\n",
       "\n",
       "    .dataframe tbody tr th {\n",
       "        vertical-align: top;\n",
       "    }\n",
       "\n",
       "    .dataframe thead th {\n",
       "        text-align: right;\n",
       "    }\n",
       "</style>\n",
       "<table border=\"1\" class=\"dataframe\">\n",
       "  <thead>\n",
       "    <tr style=\"text-align: right;\">\n",
       "      <th></th>\n",
       "      <th>region</th>\n",
       "      <th>customer_lifetime_value</th>\n",
       "      <th>response</th>\n",
       "      <th>coverage</th>\n",
       "      <th>education</th>\n",
       "      <th>effective_to_date</th>\n",
       "      <th>month</th>\n",
       "      <th>employment_status</th>\n",
       "      <th>gender</th>\n",
       "      <th>income</th>\n",
       "      <th>...</th>\n",
       "      <th>months_since_policy_inception</th>\n",
       "      <th>number_of_open_complaints</th>\n",
       "      <th>number_of_policies</th>\n",
       "      <th>policy_type</th>\n",
       "      <th>policy</th>\n",
       "      <th>renew_offer_type</th>\n",
       "      <th>sales_channel</th>\n",
       "      <th>total_claim_amount</th>\n",
       "      <th>vehicle_class</th>\n",
       "      <th>vehicle_size</th>\n",
       "    </tr>\n",
       "  </thead>\n",
       "  <tbody>\n",
       "    <tr>\n",
       "      <th>0</th>\n",
       "      <td>central</td>\n",
       "      <td>4809</td>\n",
       "      <td>no</td>\n",
       "      <td>basic</td>\n",
       "      <td>college</td>\n",
       "      <td>2/18/11</td>\n",
       "      <td>feb</td>\n",
       "      <td>employed</td>\n",
       "      <td>m</td>\n",
       "      <td>48029</td>\n",
       "      <td>...</td>\n",
       "      <td>52</td>\n",
       "      <td>0</td>\n",
       "      <td>9</td>\n",
       "      <td>corporate auto</td>\n",
       "      <td>corporate l3</td>\n",
       "      <td>offer3</td>\n",
       "      <td>agent</td>\n",
       "      <td>292</td>\n",
       "      <td>four-door car</td>\n",
       "      <td>medsize</td>\n",
       "    </tr>\n",
       "    <tr>\n",
       "      <th>1</th>\n",
       "      <td>west region</td>\n",
       "      <td>2228</td>\n",
       "      <td>no</td>\n",
       "      <td>basic</td>\n",
       "      <td>college</td>\n",
       "      <td>1/18/11</td>\n",
       "      <td>jan</td>\n",
       "      <td>unemployed</td>\n",
       "      <td>f</td>\n",
       "      <td>92260</td>\n",
       "      <td>...</td>\n",
       "      <td>26</td>\n",
       "      <td>0</td>\n",
       "      <td>1</td>\n",
       "      <td>personal auto</td>\n",
       "      <td>personal l3</td>\n",
       "      <td>offer4</td>\n",
       "      <td>call center</td>\n",
       "      <td>744</td>\n",
       "      <td>four-door car</td>\n",
       "      <td>medsize</td>\n",
       "    </tr>\n",
       "    <tr>\n",
       "      <th>2</th>\n",
       "      <td>east</td>\n",
       "      <td>14947</td>\n",
       "      <td>no</td>\n",
       "      <td>basic</td>\n",
       "      <td>bachelor</td>\n",
       "      <td>2/10/11</td>\n",
       "      <td>feb</td>\n",
       "      <td>employed</td>\n",
       "      <td>m</td>\n",
       "      <td>22139</td>\n",
       "      <td>...</td>\n",
       "      <td>31</td>\n",
       "      <td>0</td>\n",
       "      <td>2</td>\n",
       "      <td>personal auto</td>\n",
       "      <td>personal l3</td>\n",
       "      <td>offer3</td>\n",
       "      <td>call center</td>\n",
       "      <td>480</td>\n",
       "      <td>suv</td>\n",
       "      <td>medsize</td>\n",
       "    </tr>\n",
       "    <tr>\n",
       "      <th>3</th>\n",
       "      <td>north west</td>\n",
       "      <td>22332</td>\n",
       "      <td>yes</td>\n",
       "      <td>extended</td>\n",
       "      <td>college</td>\n",
       "      <td>1/11/11</td>\n",
       "      <td>jan</td>\n",
       "      <td>employed</td>\n",
       "      <td>m</td>\n",
       "      <td>49078</td>\n",
       "      <td>...</td>\n",
       "      <td>3</td>\n",
       "      <td>0</td>\n",
       "      <td>2</td>\n",
       "      <td>corporate auto</td>\n",
       "      <td>corporate l3</td>\n",
       "      <td>offer2</td>\n",
       "      <td>branch</td>\n",
       "      <td>484</td>\n",
       "      <td>four-door car</td>\n",
       "      <td>medsize</td>\n",
       "    </tr>\n",
       "    <tr>\n",
       "      <th>4</th>\n",
       "      <td>north west</td>\n",
       "      <td>9025</td>\n",
       "      <td>no</td>\n",
       "      <td>premium</td>\n",
       "      <td>bachelor</td>\n",
       "      <td>1/17/11</td>\n",
       "      <td>jan</td>\n",
       "      <td>medical leave</td>\n",
       "      <td>f</td>\n",
       "      <td>23675</td>\n",
       "      <td>...</td>\n",
       "      <td>31</td>\n",
       "      <td>0</td>\n",
       "      <td>7</td>\n",
       "      <td>personal auto</td>\n",
       "      <td>personal l2</td>\n",
       "      <td>offer1</td>\n",
       "      <td>branch</td>\n",
       "      <td>707</td>\n",
       "      <td>four-door car</td>\n",
       "      <td>medsize</td>\n",
       "    </tr>\n",
       "    <tr>\n",
       "      <th>...</th>\n",
       "      <td>...</td>\n",
       "      <td>...</td>\n",
       "      <td>...</td>\n",
       "      <td>...</td>\n",
       "      <td>...</td>\n",
       "      <td>...</td>\n",
       "      <td>...</td>\n",
       "      <td>...</td>\n",
       "      <td>...</td>\n",
       "      <td>...</td>\n",
       "      <td>...</td>\n",
       "      <td>...</td>\n",
       "      <td>...</td>\n",
       "      <td>...</td>\n",
       "      <td>...</td>\n",
       "      <td>...</td>\n",
       "      <td>...</td>\n",
       "      <td>...</td>\n",
       "      <td>...</td>\n",
       "      <td>...</td>\n",
       "      <td>...</td>\n",
       "    </tr>\n",
       "    <tr>\n",
       "      <th>10684</th>\n",
       "      <td>central</td>\n",
       "      <td>15563</td>\n",
       "      <td>no</td>\n",
       "      <td>premium</td>\n",
       "      <td>bachelor</td>\n",
       "      <td>1/19/11</td>\n",
       "      <td>jan</td>\n",
       "      <td>unemployed</td>\n",
       "      <td>f</td>\n",
       "      <td>61541</td>\n",
       "      <td>...</td>\n",
       "      <td>40</td>\n",
       "      <td>0</td>\n",
       "      <td>7</td>\n",
       "      <td>personal auto</td>\n",
       "      <td>personal l1</td>\n",
       "      <td>offer3</td>\n",
       "      <td>web</td>\n",
       "      <td>1214</td>\n",
       "      <td>luxury car</td>\n",
       "      <td>medsize</td>\n",
       "    </tr>\n",
       "    <tr>\n",
       "      <th>10685</th>\n",
       "      <td>north west</td>\n",
       "      <td>5259</td>\n",
       "      <td>no</td>\n",
       "      <td>basic</td>\n",
       "      <td>college</td>\n",
       "      <td>1/6/11</td>\n",
       "      <td>jan</td>\n",
       "      <td>employed</td>\n",
       "      <td>f</td>\n",
       "      <td>61146</td>\n",
       "      <td>...</td>\n",
       "      <td>68</td>\n",
       "      <td>0</td>\n",
       "      <td>6</td>\n",
       "      <td>personal auto</td>\n",
       "      <td>personal l3</td>\n",
       "      <td>offer2</td>\n",
       "      <td>branch</td>\n",
       "      <td>273</td>\n",
       "      <td>four-door car</td>\n",
       "      <td>medsize</td>\n",
       "    </tr>\n",
       "    <tr>\n",
       "      <th>10686</th>\n",
       "      <td>central</td>\n",
       "      <td>23893</td>\n",
       "      <td>no</td>\n",
       "      <td>extended</td>\n",
       "      <td>bachelor</td>\n",
       "      <td>2/6/11</td>\n",
       "      <td>feb</td>\n",
       "      <td>employed</td>\n",
       "      <td>f</td>\n",
       "      <td>39837</td>\n",
       "      <td>...</td>\n",
       "      <td>63</td>\n",
       "      <td>0</td>\n",
       "      <td>2</td>\n",
       "      <td>corporate auto</td>\n",
       "      <td>corporate l3</td>\n",
       "      <td>offer1</td>\n",
       "      <td>web</td>\n",
       "      <td>381</td>\n",
       "      <td>luxury suv</td>\n",
       "      <td>medsize</td>\n",
       "    </tr>\n",
       "    <tr>\n",
       "      <th>10687</th>\n",
       "      <td>west region</td>\n",
       "      <td>11971</td>\n",
       "      <td>no</td>\n",
       "      <td>premium</td>\n",
       "      <td>college</td>\n",
       "      <td>2/13/11</td>\n",
       "      <td>feb</td>\n",
       "      <td>employed</td>\n",
       "      <td>f</td>\n",
       "      <td>64195</td>\n",
       "      <td>...</td>\n",
       "      <td>27</td>\n",
       "      <td>4</td>\n",
       "      <td>6</td>\n",
       "      <td>personal auto</td>\n",
       "      <td>personal l1</td>\n",
       "      <td>offer1</td>\n",
       "      <td>branch</td>\n",
       "      <td>618</td>\n",
       "      <td>suv</td>\n",
       "      <td>medsize</td>\n",
       "    </tr>\n",
       "    <tr>\n",
       "      <th>10688</th>\n",
       "      <td>central</td>\n",
       "      <td>6857</td>\n",
       "      <td>no</td>\n",
       "      <td>basic</td>\n",
       "      <td>bachelor</td>\n",
       "      <td>1/8/11</td>\n",
       "      <td>jan</td>\n",
       "      <td>unemployed</td>\n",
       "      <td>m</td>\n",
       "      <td>68942</td>\n",
       "      <td>...</td>\n",
       "      <td>1</td>\n",
       "      <td>0</td>\n",
       "      <td>3</td>\n",
       "      <td>personal auto</td>\n",
       "      <td>personal l1</td>\n",
       "      <td>offer4</td>\n",
       "      <td>web</td>\n",
       "      <td>1021</td>\n",
       "      <td>suv</td>\n",
       "      <td>medsize</td>\n",
       "    </tr>\n",
       "  </tbody>\n",
       "</table>\n",
       "<p>10689 rows × 24 columns</p>\n",
       "</div>"
      ],
      "text/plain": [
       "            region  customer_lifetime_value response  coverage education  \\\n",
       "0          central                     4809       no     basic   college   \n",
       "1      west region                     2228       no     basic   college   \n",
       "2             east                    14947       no     basic  bachelor   \n",
       "3       north west                    22332      yes  extended   college   \n",
       "4       north west                     9025       no   premium  bachelor   \n",
       "...            ...                      ...      ...       ...       ...   \n",
       "10684      central                    15563       no   premium  bachelor   \n",
       "10685   north west                     5259       no     basic   college   \n",
       "10686      central                    23893       no  extended  bachelor   \n",
       "10687  west region                    11971       no   premium   college   \n",
       "10688      central                     6857       no     basic  bachelor   \n",
       "\n",
       "      effective_to_date month employment_status gender  income  ...  \\\n",
       "0               2/18/11   feb          employed      m   48029  ...   \n",
       "1               1/18/11   jan        unemployed      f   92260  ...   \n",
       "2               2/10/11   feb          employed      m   22139  ...   \n",
       "3               1/11/11   jan          employed      m   49078  ...   \n",
       "4               1/17/11   jan     medical leave      f   23675  ...   \n",
       "...                 ...   ...               ...    ...     ...  ...   \n",
       "10684           1/19/11   jan        unemployed      f   61541  ...   \n",
       "10685            1/6/11   jan          employed      f   61146  ...   \n",
       "10686            2/6/11   feb          employed      f   39837  ...   \n",
       "10687           2/13/11   feb          employed      f   64195  ...   \n",
       "10688            1/8/11   jan        unemployed      m   68942  ...   \n",
       "\n",
       "      months_since_policy_inception number_of_open_complaints  \\\n",
       "0                                52                         0   \n",
       "1                                26                         0   \n",
       "2                                31                         0   \n",
       "3                                 3                         0   \n",
       "4                                31                         0   \n",
       "...                             ...                       ...   \n",
       "10684                            40                         0   \n",
       "10685                            68                         0   \n",
       "10686                            63                         0   \n",
       "10687                            27                         4   \n",
       "10688                             1                         0   \n",
       "\n",
       "       number_of_policies     policy_type        policy  renew_offer_type  \\\n",
       "0                       9  corporate auto  corporate l3            offer3   \n",
       "1                       1   personal auto   personal l3            offer4   \n",
       "2                       2   personal auto   personal l3            offer3   \n",
       "3                       2  corporate auto  corporate l3            offer2   \n",
       "4                       7   personal auto   personal l2            offer1   \n",
       "...                   ...             ...           ...               ...   \n",
       "10684                   7   personal auto   personal l1            offer3   \n",
       "10685                   6   personal auto   personal l3            offer2   \n",
       "10686                   2  corporate auto  corporate l3            offer1   \n",
       "10687                   6   personal auto   personal l1            offer1   \n",
       "10688                   3   personal auto   personal l1            offer4   \n",
       "\n",
       "       sales_channel total_claim_amount  vehicle_class vehicle_size  \n",
       "0              agent                292  four-door car      medsize  \n",
       "1        call center                744  four-door car      medsize  \n",
       "2        call center                480            suv      medsize  \n",
       "3             branch                484  four-door car      medsize  \n",
       "4             branch                707  four-door car      medsize  \n",
       "...              ...                ...            ...          ...  \n",
       "10684            web               1214     luxury car      medsize  \n",
       "10685         branch                273  four-door car      medsize  \n",
       "10686            web                381     luxury suv      medsize  \n",
       "10687         branch                618            suv      medsize  \n",
       "10688            web               1021            suv      medsize  \n",
       "\n",
       "[10689 rows x 24 columns]"
      ]
     },
     "execution_count": 7,
     "metadata": {},
     "output_type": "execute_result"
    }
   ],
   "source": [
    "dm"
   ]
  },
  {
   "cell_type": "markdown",
   "id": "245a751f",
   "metadata": {},
   "source": [
    "checking if there are highly correlated features and drop them if there are any.\n",
    "## plotting the correlation heatmap"
   ]
  },
  {
   "cell_type": "code",
   "execution_count": 32,
   "id": "bdf2209a",
   "metadata": {},
   "outputs": [
    {
     "data": {
      "image/png": "[encoded data removed]",
      "text/plain": [
       "<Figure size 648x504 with 2 Axes>"
      ]
     },
     "metadata": {},
     "output_type": "display_data"
    }
   ],
   "source": [
    "corr = dm.corr()\n",
    "mask = np.zeros_like(corr)\n",
    "mask[np.triu_indices_from(mask)] = True\n",
    "with sns.axes_style(\"white\"):\n",
    "    f, ax = plt.subplots(figsize=(9, 7))\n",
    "    ax = sns.heatmap(corr, mask=mask,cmap='coolwarm', vmin=-1,vmax=1,annot=True, square=True)"
   ]
  },
  {
   "cell_type": "markdown",
   "id": "4c9c9537",
   "metadata": {},
   "source": [
    "#One Hot/Label Encoding of the categorical variables in the categoricals data frame \n",
    " that you created in Activity ( Hint: check Dropfirst option)."
   ]
  },
  {
   "cell_type": "code",
   "execution_count": 38,
   "id": "f4a41481",
   "metadata": {},
   "outputs": [
    {
     "data": {
      "text/html": [
       "<div>\n",
       "<style scoped>\n",
       "    .dataframe tbody tr th:only-of-type {\n",
       "        vertical-align: middle;\n",
       "    }\n",
       "\n",
       "    .dataframe tbody tr th {\n",
       "        vertical-align: top;\n",
       "    }\n",
       "\n",
       "    .dataframe thead th {\n",
       "        text-align: right;\n",
       "    }\n",
       "</style>\n",
       "<table border=\"1\" class=\"dataframe\">\n",
       "  <thead>\n",
       "    <tr style=\"text-align: right;\">\n",
       "      <th></th>\n",
       "      <th>region_east</th>\n",
       "      <th>region_north west</th>\n",
       "      <th>region_west region</th>\n",
       "      <th>response_yes</th>\n",
       "      <th>coverage_extended</th>\n",
       "      <th>coverage_premium</th>\n",
       "      <th>education_college</th>\n",
       "      <th>education_doctor</th>\n",
       "      <th>education_high school or below</th>\n",
       "      <th>education_master</th>\n",
       "      <th>...</th>\n",
       "      <th>sales_channel_branch</th>\n",
       "      <th>sales_channel_call center</th>\n",
       "      <th>sales_channel_web</th>\n",
       "      <th>vehicle_class_luxury car</th>\n",
       "      <th>vehicle_class_luxury suv</th>\n",
       "      <th>vehicle_class_sports car</th>\n",
       "      <th>vehicle_class_suv</th>\n",
       "      <th>vehicle_class_two-door car</th>\n",
       "      <th>vehicle_size_medsize</th>\n",
       "      <th>vehicle_size_small</th>\n",
       "    </tr>\n",
       "  </thead>\n",
       "  <tbody>\n",
       "    <tr>\n",
       "      <th>0</th>\n",
       "      <td>0</td>\n",
       "      <td>0</td>\n",
       "      <td>0</td>\n",
       "      <td>0</td>\n",
       "      <td>0</td>\n",
       "      <td>0</td>\n",
       "      <td>1</td>\n",
       "      <td>0</td>\n",
       "      <td>0</td>\n",
       "      <td>0</td>\n",
       "      <td>...</td>\n",
       "      <td>0</td>\n",
       "      <td>0</td>\n",
       "      <td>0</td>\n",
       "      <td>0</td>\n",
       "      <td>0</td>\n",
       "      <td>0</td>\n",
       "      <td>0</td>\n",
       "      <td>0</td>\n",
       "      <td>1</td>\n",
       "      <td>0</td>\n",
       "    </tr>\n",
       "    <tr>\n",
       "      <th>1</th>\n",
       "      <td>0</td>\n",
       "      <td>0</td>\n",
       "      <td>1</td>\n",
       "      <td>0</td>\n",
       "      <td>0</td>\n",
       "      <td>0</td>\n",
       "      <td>1</td>\n",
       "      <td>0</td>\n",
       "      <td>0</td>\n",
       "      <td>0</td>\n",
       "      <td>...</td>\n",
       "      <td>0</td>\n",
       "      <td>1</td>\n",
       "      <td>0</td>\n",
       "      <td>0</td>\n",
       "      <td>0</td>\n",
       "      <td>0</td>\n",
       "      <td>0</td>\n",
       "      <td>0</td>\n",
       "      <td>1</td>\n",
       "      <td>0</td>\n",
       "    </tr>\n",
       "    <tr>\n",
       "      <th>2</th>\n",
       "      <td>1</td>\n",
       "      <td>0</td>\n",
       "      <td>0</td>\n",
       "      <td>0</td>\n",
       "      <td>0</td>\n",
       "      <td>0</td>\n",
       "      <td>0</td>\n",
       "      <td>0</td>\n",
       "      <td>0</td>\n",
       "      <td>0</td>\n",
       "      <td>...</td>\n",
       "      <td>0</td>\n",
       "      <td>1</td>\n",
       "      <td>0</td>\n",
       "      <td>0</td>\n",
       "      <td>0</td>\n",
       "      <td>0</td>\n",
       "      <td>1</td>\n",
       "      <td>0</td>\n",
       "      <td>1</td>\n",
       "      <td>0</td>\n",
       "    </tr>\n",
       "    <tr>\n",
       "      <th>3</th>\n",
       "      <td>0</td>\n",
       "      <td>1</td>\n",
       "      <td>0</td>\n",
       "      <td>1</td>\n",
       "      <td>1</td>\n",
       "      <td>0</td>\n",
       "      <td>1</td>\n",
       "      <td>0</td>\n",
       "      <td>0</td>\n",
       "      <td>0</td>\n",
       "      <td>...</td>\n",
       "      <td>1</td>\n",
       "      <td>0</td>\n",
       "      <td>0</td>\n",
       "      <td>0</td>\n",
       "      <td>0</td>\n",
       "      <td>0</td>\n",
       "      <td>0</td>\n",
       "      <td>0</td>\n",
       "      <td>1</td>\n",
       "      <td>0</td>\n",
       "    </tr>\n",
       "    <tr>\n",
       "      <th>4</th>\n",
       "      <td>0</td>\n",
       "      <td>1</td>\n",
       "      <td>0</td>\n",
       "      <td>0</td>\n",
       "      <td>0</td>\n",
       "      <td>1</td>\n",
       "      <td>0</td>\n",
       "      <td>0</td>\n",
       "      <td>0</td>\n",
       "      <td>0</td>\n",
       "      <td>...</td>\n",
       "      <td>1</td>\n",
       "      <td>0</td>\n",
       "      <td>0</td>\n",
       "      <td>0</td>\n",
       "      <td>0</td>\n",
       "      <td>0</td>\n",
       "      <td>0</td>\n",
       "      <td>0</td>\n",
       "      <td>1</td>\n",
       "      <td>0</td>\n",
       "    </tr>\n",
       "    <tr>\n",
       "      <th>...</th>\n",
       "      <td>...</td>\n",
       "      <td>...</td>\n",
       "      <td>...</td>\n",
       "      <td>...</td>\n",
       "      <td>...</td>\n",
       "      <td>...</td>\n",
       "      <td>...</td>\n",
       "      <td>...</td>\n",
       "      <td>...</td>\n",
       "      <td>...</td>\n",
       "      <td>...</td>\n",
       "      <td>...</td>\n",
       "      <td>...</td>\n",
       "      <td>...</td>\n",
       "      <td>...</td>\n",
       "      <td>...</td>\n",
       "      <td>...</td>\n",
       "      <td>...</td>\n",
       "      <td>...</td>\n",
       "      <td>...</td>\n",
       "      <td>...</td>\n",
       "    </tr>\n",
       "    <tr>\n",
       "      <th>10684</th>\n",
       "      <td>0</td>\n",
       "      <td>0</td>\n",
       "      <td>0</td>\n",
       "      <td>0</td>\n",
       "      <td>0</td>\n",
       "      <td>1</td>\n",
       "      <td>0</td>\n",
       "      <td>0</td>\n",
       "      <td>0</td>\n",
       "      <td>0</td>\n",
       "      <td>...</td>\n",
       "      <td>0</td>\n",
       "      <td>0</td>\n",
       "      <td>1</td>\n",
       "      <td>1</td>\n",
       "      <td>0</td>\n",
       "      <td>0</td>\n",
       "      <td>0</td>\n",
       "      <td>0</td>\n",
       "      <td>1</td>\n",
       "      <td>0</td>\n",
       "    </tr>\n",
       "    <tr>\n",
       "      <th>10685</th>\n",
       "      <td>0</td>\n",
       "      <td>1</td>\n",
       "      <td>0</td>\n",
       "      <td>0</td>\n",
       "      <td>0</td>\n",
       "      <td>0</td>\n",
       "      <td>1</td>\n",
       "      <td>0</td>\n",
       "      <td>0</td>\n",
       "      <td>0</td>\n",
       "      <td>...</td>\n",
       "      <td>1</td>\n",
       "      <td>0</td>\n",
       "      <td>0</td>\n",
       "      <td>0</td>\n",
       "      <td>0</td>\n",
       "      <td>0</td>\n",
       "      <td>0</td>\n",
       "      <td>0</td>\n",
       "      <td>1</td>\n",
       "      <td>0</td>\n",
       "    </tr>\n",
       "    <tr>\n",
       "      <th>10686</th>\n",
       "      <td>0</td>\n",
       "      <td>0</td>\n",
       "      <td>0</td>\n",
       "      <td>0</td>\n",
       "      <td>1</td>\n",
       "      <td>0</td>\n",
       "      <td>0</td>\n",
       "      <td>0</td>\n",
       "      <td>0</td>\n",
       "      <td>0</td>\n",
       "      <td>...</td>\n",
       "      <td>0</td>\n",
       "      <td>0</td>\n",
       "      <td>1</td>\n",
       "      <td>0</td>\n",
       "      <td>1</td>\n",
       "      <td>0</td>\n",
       "      <td>0</td>\n",
       "      <td>0</td>\n",
       "      <td>1</td>\n",
       "      <td>0</td>\n",
       "    </tr>\n",
       "    <tr>\n",
       "      <th>10687</th>\n",
       "      <td>0</td>\n",
       "      <td>0</td>\n",
       "      <td>1</td>\n",
       "      <td>0</td>\n",
       "      <td>0</td>\n",
       "      <td>1</td>\n",
       "      <td>1</td>\n",
       "      <td>0</td>\n",
       "      <td>0</td>\n",
       "      <td>0</td>\n",
       "      <td>...</td>\n",
       "      <td>1</td>\n",
       "      <td>0</td>\n",
       "      <td>0</td>\n",
       "      <td>0</td>\n",
       "      <td>0</td>\n",
       "      <td>0</td>\n",
       "      <td>1</td>\n",
       "      <td>0</td>\n",
       "      <td>1</td>\n",
       "      <td>0</td>\n",
       "    </tr>\n",
       "    <tr>\n",
       "      <th>10688</th>\n",
       "      <td>0</td>\n",
       "      <td>0</td>\n",
       "      <td>0</td>\n",
       "      <td>0</td>\n",
       "      <td>0</td>\n",
       "      <td>0</td>\n",
       "      <td>0</td>\n",
       "      <td>0</td>\n",
       "      <td>0</td>\n",
       "      <td>0</td>\n",
       "      <td>...</td>\n",
       "      <td>0</td>\n",
       "      <td>0</td>\n",
       "      <td>1</td>\n",
       "      <td>0</td>\n",
       "      <td>0</td>\n",
       "      <td>0</td>\n",
       "      <td>1</td>\n",
       "      <td>0</td>\n",
       "      <td>1</td>\n",
       "      <td>0</td>\n",
       "    </tr>\n",
       "  </tbody>\n",
       "</table>\n",
       "<p>10689 rows × 101 columns</p>\n",
       "</div>"
      ],
      "text/plain": [
       "       region_east  region_north west  region_west region  response_yes  \\\n",
       "0                0                  0                   0             0   \n",
       "1                0                  0                   1             0   \n",
       "2                1                  0                   0             0   \n",
       "3                0                  1                   0             1   \n",
       "4                0                  1                   0             0   \n",
       "...            ...                ...                 ...           ...   \n",
       "10684            0                  0                   0             0   \n",
       "10685            0                  1                   0             0   \n",
       "10686            0                  0                   0             0   \n",
       "10687            0                  0                   1             0   \n",
       "10688            0                  0                   0             0   \n",
       "\n",
       "       coverage_extended  coverage_premium  education_college  \\\n",
       "0                      0                 0                  1   \n",
       "1                      0                 0                  1   \n",
       "2                      0                 0                  0   \n",
       "3                      1                 0                  1   \n",
       "4                      0                 1                  0   \n",
       "...                  ...               ...                ...   \n",
       "10684                  0                 1                  0   \n",
       "10685                  0                 0                  1   \n",
       "10686                  1                 0                  0   \n",
       "10687                  0                 1                  1   \n",
       "10688                  0                 0                  0   \n",
       "\n",
       "       education_doctor  education_high school or below  education_master  \\\n",
       "0                     0                               0                 0   \n",
       "1                     0                               0                 0   \n",
       "2                     0                               0                 0   \n",
       "3                     0                               0                 0   \n",
       "4                     0                               0                 0   \n",
       "...                 ...                             ...               ...   \n",
       "10684                 0                               0                 0   \n",
       "10685                 0                               0                 0   \n",
       "10686                 0                               0                 0   \n",
       "10687                 0                               0                 0   \n",
       "10688                 0                               0                 0   \n",
       "\n",
       "       ...  sales_channel_branch  sales_channel_call center  \\\n",
       "0      ...                     0                          0   \n",
       "1      ...                     0                          1   \n",
       "2      ...                     0                          1   \n",
       "3      ...                     1                          0   \n",
       "4      ...                     1                          0   \n",
       "...    ...                   ...                        ...   \n",
       "10684  ...                     0                          0   \n",
       "10685  ...                     1                          0   \n",
       "10686  ...                     0                          0   \n",
       "10687  ...                     1                          0   \n",
       "10688  ...                     0                          0   \n",
       "\n",
       "       sales_channel_web  vehicle_class_luxury car  vehicle_class_luxury suv  \\\n",
       "0                      0                         0                         0   \n",
       "1                      0                         0                         0   \n",
       "2                      0                         0                         0   \n",
       "3                      0                         0                         0   \n",
       "4                      0                         0                         0   \n",
       "...                  ...                       ...                       ...   \n",
       "10684                  1                         1                         0   \n",
       "10685                  0                         0                         0   \n",
       "10686                  1                         0                         1   \n",
       "10687                  0                         0                         0   \n",
       "10688                  1                         0                         0   \n",
       "\n",
       "       vehicle_class_sports car  vehicle_class_suv  \\\n",
       "0                             0                  0   \n",
       "1                             0                  0   \n",
       "2                             0                  1   \n",
       "3                             0                  0   \n",
       "4                             0                  0   \n",
       "...                         ...                ...   \n",
       "10684                         0                  0   \n",
       "10685                         0                  0   \n",
       "10686                         0                  0   \n",
       "10687                         0                  1   \n",
       "10688                         0                  1   \n",
       "\n",
       "       vehicle_class_two-door car  vehicle_size_medsize  vehicle_size_small  \n",
       "0                               0                     1                   0  \n",
       "1                               0                     1                   0  \n",
       "2                               0                     1                   0  \n",
       "3                               0                     1                   0  \n",
       "4                               0                     1                   0  \n",
       "...                           ...                   ...                 ...  \n",
       "10684                           0                     1                   0  \n",
       "10685                           0                     1                   0  \n",
       "10686                           0                     1                   0  \n",
       "10687                           0                     1                   0  \n",
       "10688                           0                     1                   0  \n",
       "\n",
       "[10689 rows x 101 columns]"
      ]
     },
     "execution_count": 38,
     "metadata": {},
     "output_type": "execute_result"
    }
   ],
   "source": [
    "cat_dm = dm.select_dtypes(include=['object']).copy()\n",
    "cat_val=pd.get_dummies(cat_dm, drop_first=True)\n",
    "cat_val"
   ]
  },
  {
   "cell_type": "markdown",
   "id": "1a3ceb4f",
   "metadata": {},
   "source": [
    "# Select numerical data "
   ]
  },
  {
   "cell_type": "code",
   "execution_count": 29,
   "id": "552eb4d9",
   "metadata": {},
   "outputs": [
    {
     "data": {
      "text/html": [
       "<div>\n",
       "<style scoped>\n",
       "    .dataframe tbody tr th:only-of-type {\n",
       "        vertical-align: middle;\n",
       "    }\n",
       "\n",
       "    .dataframe tbody tr th {\n",
       "        vertical-align: top;\n",
       "    }\n",
       "\n",
       "    .dataframe thead th {\n",
       "        text-align: right;\n",
       "    }\n",
       "</style>\n",
       "<table border=\"1\" class=\"dataframe\">\n",
       "  <thead>\n",
       "    <tr style=\"text-align: right;\">\n",
       "      <th></th>\n",
       "      <th>customer_lifetime_value</th>\n",
       "      <th>income</th>\n",
       "      <th>monthly_premium_auto</th>\n",
       "      <th>months_since_last_claim</th>\n",
       "      <th>months_since_policy_inception</th>\n",
       "      <th>total_claim_amount</th>\n",
       "    </tr>\n",
       "  </thead>\n",
       "  <tbody>\n",
       "    <tr>\n",
       "      <th>0</th>\n",
       "      <td>4809</td>\n",
       "      <td>48029</td>\n",
       "      <td>61</td>\n",
       "      <td>7</td>\n",
       "      <td>52</td>\n",
       "      <td>292</td>\n",
       "    </tr>\n",
       "    <tr>\n",
       "      <th>1</th>\n",
       "      <td>2228</td>\n",
       "      <td>92260</td>\n",
       "      <td>64</td>\n",
       "      <td>3</td>\n",
       "      <td>26</td>\n",
       "      <td>744</td>\n",
       "    </tr>\n",
       "    <tr>\n",
       "      <th>2</th>\n",
       "      <td>14947</td>\n",
       "      <td>22139</td>\n",
       "      <td>100</td>\n",
       "      <td>34</td>\n",
       "      <td>31</td>\n",
       "      <td>480</td>\n",
       "    </tr>\n",
       "    <tr>\n",
       "      <th>3</th>\n",
       "      <td>22332</td>\n",
       "      <td>49078</td>\n",
       "      <td>97</td>\n",
       "      <td>10</td>\n",
       "      <td>3</td>\n",
       "      <td>484</td>\n",
       "    </tr>\n",
       "    <tr>\n",
       "      <th>4</th>\n",
       "      <td>9025</td>\n",
       "      <td>23675</td>\n",
       "      <td>117</td>\n",
       "      <td>33</td>\n",
       "      <td>31</td>\n",
       "      <td>707</td>\n",
       "    </tr>\n",
       "    <tr>\n",
       "      <th>...</th>\n",
       "      <td>...</td>\n",
       "      <td>...</td>\n",
       "      <td>...</td>\n",
       "      <td>...</td>\n",
       "      <td>...</td>\n",
       "      <td>...</td>\n",
       "    </tr>\n",
       "    <tr>\n",
       "      <th>10684</th>\n",
       "      <td>15563</td>\n",
       "      <td>61541</td>\n",
       "      <td>253</td>\n",
       "      <td>12</td>\n",
       "      <td>40</td>\n",
       "      <td>1214</td>\n",
       "    </tr>\n",
       "    <tr>\n",
       "      <th>10685</th>\n",
       "      <td>5259</td>\n",
       "      <td>61146</td>\n",
       "      <td>65</td>\n",
       "      <td>7</td>\n",
       "      <td>68</td>\n",
       "      <td>273</td>\n",
       "    </tr>\n",
       "    <tr>\n",
       "      <th>10686</th>\n",
       "      <td>23893</td>\n",
       "      <td>39837</td>\n",
       "      <td>201</td>\n",
       "      <td>11</td>\n",
       "      <td>63</td>\n",
       "      <td>381</td>\n",
       "    </tr>\n",
       "    <tr>\n",
       "      <th>10687</th>\n",
       "      <td>11971</td>\n",
       "      <td>64195</td>\n",
       "      <td>158</td>\n",
       "      <td>0</td>\n",
       "      <td>27</td>\n",
       "      <td>618</td>\n",
       "    </tr>\n",
       "    <tr>\n",
       "      <th>10688</th>\n",
       "      <td>6857</td>\n",
       "      <td>68942</td>\n",
       "      <td>101</td>\n",
       "      <td>31</td>\n",
       "      <td>1</td>\n",
       "      <td>1021</td>\n",
       "    </tr>\n",
       "  </tbody>\n",
       "</table>\n",
       "<p>10689 rows × 6 columns</p>\n",
       "</div>"
      ],
      "text/plain": [
       "       customer_lifetime_value  income  monthly_premium_auto  \\\n",
       "0                         4809   48029                    61   \n",
       "1                         2228   92260                    64   \n",
       "2                        14947   22139                   100   \n",
       "3                        22332   49078                    97   \n",
       "4                         9025   23675                   117   \n",
       "...                        ...     ...                   ...   \n",
       "10684                    15563   61541                   253   \n",
       "10685                     5259   61146                    65   \n",
       "10686                    23893   39837                   201   \n",
       "10687                    11971   64195                   158   \n",
       "10688                     6857   68942                   101   \n",
       "\n",
       "       months_since_last_claim  months_since_policy_inception  \\\n",
       "0                            7                             52   \n",
       "1                            3                             26   \n",
       "2                           34                             31   \n",
       "3                           10                              3   \n",
       "4                           33                             31   \n",
       "...                        ...                            ...   \n",
       "10684                       12                             40   \n",
       "10685                        7                             68   \n",
       "10686                       11                             63   \n",
       "10687                        0                             27   \n",
       "10688                       31                              1   \n",
       "\n",
       "       total_claim_amount  \n",
       "0                     292  \n",
       "1                     744  \n",
       "2                     480  \n",
       "3                     484  \n",
       "4                     707  \n",
       "...                   ...  \n",
       "10684                1214  \n",
       "10685                 273  \n",
       "10686                 381  \n",
       "10687                 618  \n",
       "10688                1021  \n",
       "\n",
       "[10689 rows x 6 columns]"
      ]
     },
     "execution_count": 29,
     "metadata": {},
     "output_type": "execute_result"
    }
   ],
   "source": [
    "dm_num = dm._get_numeric_data()\n",
    "dm_num = dm_num.drop(['number_of_open_complaints', 'number_of_policies' ], axis=1)\n",
    "dm_num"
   ]
  },
  {
   "cell_type": "markdown",
   "id": "76eb571a",
   "metadata": {},
   "source": [
    "# X-y split (y is the target variable which is the total claim amount)"
   ]
  },
  {
   "cell_type": "code",
   "execution_count": 41,
   "id": "e857a0e1",
   "metadata": {},
   "outputs": [],
   "source": [
    "target_d = \"total_claim_amount\"\n",
    "X=dm_num.drop(['total_claim_amount'], axis=1)\n",
    "y=dm_num.total_claim_amount"
   ]
  },
  {
   "cell_type": "code",
   "execution_count": 52,
   "id": "32f091eb",
   "metadata": {},
   "outputs": [
    {
     "data": {
      "text/html": [
       "<div>\n",
       "<style scoped>\n",
       "    .dataframe tbody tr th:only-of-type {\n",
       "        vertical-align: middle;\n",
       "    }\n",
       "\n",
       "    .dataframe tbody tr th {\n",
       "        vertical-align: top;\n",
       "    }\n",
       "\n",
       "    .dataframe thead th {\n",
       "        text-align: right;\n",
       "    }\n",
       "</style>\n",
       "<table border=\"1\" class=\"dataframe\">\n",
       "  <thead>\n",
       "    <tr style=\"text-align: right;\">\n",
       "      <th></th>\n",
       "      <th>customer_lifetime_value</th>\n",
       "      <th>income</th>\n",
       "      <th>monthly_premium_auto</th>\n",
       "      <th>months_since_last_claim</th>\n",
       "      <th>months_since_policy_inception</th>\n",
       "    </tr>\n",
       "  </thead>\n",
       "  <tbody>\n",
       "    <tr>\n",
       "      <th>0</th>\n",
       "      <td>4809</td>\n",
       "      <td>48029</td>\n",
       "      <td>61</td>\n",
       "      <td>7</td>\n",
       "      <td>52</td>\n",
       "    </tr>\n",
       "    <tr>\n",
       "      <th>1</th>\n",
       "      <td>2228</td>\n",
       "      <td>92260</td>\n",
       "      <td>64</td>\n",
       "      <td>3</td>\n",
       "      <td>26</td>\n",
       "    </tr>\n",
       "    <tr>\n",
       "      <th>2</th>\n",
       "      <td>14947</td>\n",
       "      <td>22139</td>\n",
       "      <td>100</td>\n",
       "      <td>34</td>\n",
       "      <td>31</td>\n",
       "    </tr>\n",
       "    <tr>\n",
       "      <th>3</th>\n",
       "      <td>22332</td>\n",
       "      <td>49078</td>\n",
       "      <td>97</td>\n",
       "      <td>10</td>\n",
       "      <td>3</td>\n",
       "    </tr>\n",
       "    <tr>\n",
       "      <th>4</th>\n",
       "      <td>9025</td>\n",
       "      <td>23675</td>\n",
       "      <td>117</td>\n",
       "      <td>33</td>\n",
       "      <td>31</td>\n",
       "    </tr>\n",
       "    <tr>\n",
       "      <th>...</th>\n",
       "      <td>...</td>\n",
       "      <td>...</td>\n",
       "      <td>...</td>\n",
       "      <td>...</td>\n",
       "      <td>...</td>\n",
       "    </tr>\n",
       "    <tr>\n",
       "      <th>10684</th>\n",
       "      <td>15563</td>\n",
       "      <td>61541</td>\n",
       "      <td>253</td>\n",
       "      <td>12</td>\n",
       "      <td>40</td>\n",
       "    </tr>\n",
       "    <tr>\n",
       "      <th>10685</th>\n",
       "      <td>5259</td>\n",
       "      <td>61146</td>\n",
       "      <td>65</td>\n",
       "      <td>7</td>\n",
       "      <td>68</td>\n",
       "    </tr>\n",
       "    <tr>\n",
       "      <th>10686</th>\n",
       "      <td>23893</td>\n",
       "      <td>39837</td>\n",
       "      <td>201</td>\n",
       "      <td>11</td>\n",
       "      <td>63</td>\n",
       "    </tr>\n",
       "    <tr>\n",
       "      <th>10687</th>\n",
       "      <td>11971</td>\n",
       "      <td>64195</td>\n",
       "      <td>158</td>\n",
       "      <td>0</td>\n",
       "      <td>27</td>\n",
       "    </tr>\n",
       "    <tr>\n",
       "      <th>10688</th>\n",
       "      <td>6857</td>\n",
       "      <td>68942</td>\n",
       "      <td>101</td>\n",
       "      <td>31</td>\n",
       "      <td>1</td>\n",
       "    </tr>\n",
       "  </tbody>\n",
       "</table>\n",
       "<p>10689 rows × 5 columns</p>\n",
       "</div>"
      ],
      "text/plain": [
       "       customer_lifetime_value  income  monthly_premium_auto  \\\n",
       "0                         4809   48029                    61   \n",
       "1                         2228   92260                    64   \n",
       "2                        14947   22139                   100   \n",
       "3                        22332   49078                    97   \n",
       "4                         9025   23675                   117   \n",
       "...                        ...     ...                   ...   \n",
       "10684                    15563   61541                   253   \n",
       "10685                     5259   61146                    65   \n",
       "10686                    23893   39837                   201   \n",
       "10687                    11971   64195                   158   \n",
       "10688                     6857   68942                   101   \n",
       "\n",
       "       months_since_last_claim  months_since_policy_inception  \n",
       "0                            7                             52  \n",
       "1                            3                             26  \n",
       "2                           34                             31  \n",
       "3                           10                              3  \n",
       "4                           33                             31  \n",
       "...                        ...                            ...  \n",
       "10684                       12                             40  \n",
       "10685                        7                             68  \n",
       "10686                       11                             63  \n",
       "10687                        0                             27  \n",
       "10688                       31                              1  \n",
       "\n",
       "[10689 rows x 5 columns]"
      ]
     },
     "execution_count": 52,
     "metadata": {},
     "output_type": "execute_result"
    }
   ],
   "source": [
    "X=X._get_numeric_data()\n",
    "X"
   ]
  },
  {
   "cell_type": "markdown",
   "id": "666fe1bf",
   "metadata": {},
   "source": [
    "# Data Spliting"
   ]
  },
  {
   "cell_type": "code",
   "execution_count": 44,
   "id": "ec92d860",
   "metadata": {},
   "outputs": [],
   "source": [
    "X_train, X_test, y_train, y_test=train_test_split(X, y, test_size=.30,random_state=123)"
   ]
  },
  {
   "cell_type": "markdown",
   "id": "2c8d74a9",
   "metadata": {},
   "source": [
    "# Standardize"
   ]
  },
  {
   "cell_type": "code",
   "execution_count": 47,
   "id": "77c112fd",
   "metadata": {},
   "outputs": [
    {
     "data": {
      "text/plain": [
       "(7482, 5)"
      ]
     },
     "execution_count": 47,
     "metadata": {},
     "output_type": "execute_result"
    }
   ],
   "source": [
    "std_scaler=StandardScaler().fit(X_train)   ##. finding the parameters ( mean, variance from the training set )\n",
    "\n",
    "X_train_scaled=std_scaler.transform(X_train)\n",
    "X_train.shape"
   ]
  },
  {
   "cell_type": "code",
   "execution_count": 50,
   "id": "03e1e7b2",
   "metadata": {},
   "outputs": [
    {
     "name": "stdout",
     "output_type": "stream",
     "text": [
      "[[-0.11021627 -1.27291744 -0.67143823  0.77999322  1.36516733]\n",
      " [-0.42794064  0.74729478 -0.72925469 -0.90288055  1.68786198]\n",
      " [-0.5223013   0.26592193  0.48489091 -0.90288055  0.50464827]\n",
      " ...\n",
      " [-0.81132612 -1.17224873 -0.90270406 -1.00187313 -1.39566466]\n",
      " [ 2.25575772  0.98537142 -0.78707115  0.97797837 -1.61079442]\n",
      " [ 1.18923585  0.68583346 -0.55580532  0.87898579  0.21780858]]\n",
      "--------\n",
      "[[-0.40967729  1.58428551 -0.61362178  0.28503034  1.54444214]\n",
      " [-0.7597249  -0.93947257 -0.64253     1.47294124  0.755633  ]\n",
      " [ 0.57248529 -1.23371005 -0.90270406 -1.496836    0.39708339]\n",
      " ...\n",
      " [-0.79857077 -1.05867274 -0.58471355  0.87898579 -1.18053489]\n",
      " [-0.42547654 -0.97370317 -0.81597938  0.58200807 -1.61079442]\n",
      " [-0.49881985 -0.95695203  0.71615674  1.76991896 -1.00126009]]\n"
     ]
    }
   ],
   "source": [
    "X_test_scaled=std_scaler.transform(X_test)\n",
    "print(X_train_scaled)\n",
    "print(\"--------\")\n",
    "print(X_test_scaled)"
   ]
  },
  {
   "cell_type": "code",
   "execution_count": null,
   "id": "25de9e37",
   "metadata": {},
   "outputs": [],
   "source": []
  },
  {
   "cell_type": "markdown",
   "id": "2031e384",
   "metadata": {},
   "source": [
    "# Apply Linear Regression\n",
    "# Modeling using Statsmodels"
   ]
  },
  {
   "cell_type": "code",
   "execution_count": 56,
   "id": "5ac155f4",
   "metadata": {},
   "outputs": [
    {
     "name": "stdout",
     "output_type": "stream",
     "text": [
      "                            OLS Regression Results                            \n",
      "==============================================================================\n",
      "Dep. Variable:     total_claim_amount   R-squared:                       0.410\n",
      "Model:                            OLS   Adj. R-squared:                  0.410\n",
      "Method:                 Least Squares   F-statistic:                     1040.\n",
      "Date:                Wed, 22 Jun 2022   Prob (F-statistic):               0.00\n",
      "Time:                        15:12:26   Log-Likelihood:                -51169.\n",
      "No. Observations:                7482   AIC:                         1.023e+05\n",
      "Df Residuals:                    7476   BIC:                         1.024e+05\n",
      "Df Model:                           5                                         \n",
      "Covariance Type:            nonrobust                                         \n",
      "==============================================================================\n",
      "                 coef    std err          t      P>|t|      [0.025      0.975]\n",
      "------------------------------------------------------------------------------\n",
      "const        433.0597      2.612    165.779      0.000     427.939     438.181\n",
      "x1            -6.7321      2.843     -2.368      0.018     -12.305      -1.159\n",
      "x2           -33.1173      2.615    -12.666      0.000     -38.243     -27.992\n",
      "x3           187.8868      2.843     66.095      0.000     182.314     193.459\n",
      "x4             1.9337      2.617      0.739      0.460      -3.196       7.063\n",
      "x5            -0.8755      2.616     -0.335      0.738      -6.003       4.252\n",
      "==============================================================================\n",
      "Omnibus:                      926.361   Durbin-Watson:                   2.025\n",
      "Prob(Omnibus):                  0.000   Jarque-Bera (JB):             4620.216\n",
      "Skew:                           0.499   Prob(JB):                         0.00\n",
      "Kurtosis:                       6.718   Cond. No.                         1.52\n",
      "==============================================================================\n",
      "\n",
      "Notes:\n",
      "[1] Standard Errors assume that the covariance matrix of the errors is correctly specified.\n"
     ]
    }
   ],
   "source": [
    "X_train_const_scaled = sm.add_constant(X_train_scaled) # adding a constant\n",
    "\n",
    "model = sm.OLS(y_train, X_train_const_scaled).fit()\n",
    "predictions_train = model.predict(X_train_const_scaled) \n",
    "\n",
    "X_test_const_scaled = sm.add_constant(X_test_scaled) # adding a constant\n",
    "predictions_test = model.predict(X_test_const_scaled) \n",
    "print_model = model.summary()\n",
    "print(print_model)"
   ]
  },
  {
   "cell_type": "code",
   "execution_count": 57,
   "id": "b916777b",
   "metadata": {},
   "outputs": [
    {
     "data": {
      "text/plain": [
       "array([267.2580649 , 350.75076754, 297.21455993, ..., 366.36943103,\n",
       "       317.39441425, 606.96497882])"
      ]
     },
     "execution_count": 57,
     "metadata": {},
     "output_type": "execute_result"
    }
   ],
   "source": [
    "predictions_test"
   ]
  },
  {
   "cell_type": "code",
   "execution_count": 62,
   "id": "699ba034",
   "metadata": {},
   "outputs": [
    {
     "name": "stdout",
     "output_type": "stream",
     "text": [
      "0.4098266250385173\n"
     ]
    }
   ],
   "source": [
    "print(model.rsquared_adj)"
   ]
  },
  {
   "cell_type": "markdown",
   "id": "5be5d1b0",
   "metadata": {},
   "source": [
    "# Modeling using Scikit Learn\n",
    "# Model fitting"
   ]
  },
  {
   "cell_type": "code",
   "execution_count": 63,
   "id": "abf6c34c",
   "metadata": {},
   "outputs": [
    {
     "data": {
      "text/plain": [
       "LinearRegression()"
      ]
     },
     "execution_count": 63,
     "metadata": {},
     "output_type": "execute_result"
    }
   ],
   "source": [
    "model=LinearRegression()    # model\n",
    "model.fit(X_train_scaled, y_train)   # model train"
   ]
  },
  {
   "cell_type": "markdown",
   "id": "624ac934",
   "metadata": {},
   "source": [
    "# model parameters (b1,b2,b3,b4)"
   ]
  },
  {
   "cell_type": "code",
   "execution_count": 67,
   "id": "8e0161f9",
   "metadata": {},
   "outputs": [
    {
     "data": {
      "text/plain": [
       "array([ -6.73206342, -33.11725893, 187.88680342,   1.93370336,\n",
       "        -0.87551921])"
      ]
     },
     "execution_count": 67,
     "metadata": {},
     "output_type": "execute_result"
    }
   ],
   "source": [
    "model.coef_"
   ]
  },
  {
   "cell_type": "code",
   "execution_count": 68,
   "id": "d58e6e47",
   "metadata": {},
   "outputs": [
    {
     "data": {
      "text/plain": [
       "433.0597433841219"
      ]
     },
     "execution_count": 68,
     "metadata": {},
     "output_type": "execute_result"
    }
   ],
   "source": [
    "model.intercept_"
   ]
  },
  {
   "cell_type": "code",
   "execution_count": 72,
   "id": "7a63e651",
   "metadata": {},
   "outputs": [],
   "source": [
    "y_pred=model.predict(X_test_scaled)   # model prediction\n",
    "\n",
    "y_pred_train=model.predict(X_train_scaled)"
   ]
  },
  {
   "cell_type": "code",
   "execution_count": 73,
   "id": "bee1c26b",
   "metadata": {},
   "outputs": [
    {
     "data": {
      "text/plain": [
       "array([267.2580649 , 350.75076754, 297.21455993, ..., 366.36943103,\n",
       "       317.39441425, 606.96497882])"
      ]
     },
     "execution_count": 73,
     "metadata": {},
     "output_type": "execute_result"
    }
   ],
   "source": [
    "y_pred"
   ]
  },
  {
   "cell_type": "markdown",
   "id": "6f20b48f",
   "metadata": {},
   "source": [
    "# Model Validation"
   ]
  },
  {
   "cell_type": "code",
   "execution_count": 78,
   "id": "24602f3d",
   "metadata": {},
   "outputs": [
    {
     "data": {
      "text/plain": [
       "4665     345\n",
       "4072     345\n",
       "4549     257\n",
       "4211     445\n",
       "3081     523\n",
       "        ... \n",
       "3488     404\n",
       "1667     554\n",
       "1516     350\n",
       "10215     27\n",
       "2931     320\n",
       "Name: total_claim_amount, Length: 3207, dtype: int64"
      ]
     },
     "execution_count": 78,
     "metadata": {},
     "output_type": "execute_result"
    }
   ],
   "source": [
    "y_test"
   ]
  },
  {
   "cell_type": "code",
   "execution_count": 79,
   "id": "d5b80309",
   "metadata": {},
   "outputs": [
    {
     "data": {
      "text/plain": [
       "array([267.2580649 , 350.75076754, 297.21455993, ..., 366.36943103,\n",
       "       317.39441425, 606.96497882])"
      ]
     },
     "execution_count": 79,
     "metadata": {},
     "output_type": "execute_result"
    }
   ],
   "source": [
    "y_pred"
   ]
  },
  {
   "cell_type": "code",
   "execution_count": 81,
   "id": "be2c9b6c",
   "metadata": {},
   "outputs": [],
   "source": [
    "result=pd.DataFrame({\"y_test\":y_test,\"y_pred\":y_pred})"
   ]
  },
  {
   "cell_type": "code",
   "execution_count": 82,
   "id": "dec03db9",
   "metadata": {},
   "outputs": [
    {
     "data": {
      "text/plain": [
       "[<matplotlib.lines.Line2D at 0x7f794ec9ae80>]"
      ]
     },
     "execution_count": 82,
     "metadata": {},
     "output_type": "execute_result"
    },
    {
     "data": {
      "image/png": "[encoded data removed]",
      "text/plain": [
       "<Figure size 1008x288 with 3 Axes>"
      ]
     },
     "metadata": {
      "needs_background": "light"
     },
     "output_type": "display_data"
    }
   ],
   "source": [
    "# Make an scatter plot y_pred vs y\n",
    "# What kind of plot you will get if all the all the predictions are ok?\n",
    "# A stright line\n",
    "\n",
    "fig, ax = plt.subplots(1,3,figsize=(14,4))\n",
    "ax[0].plot(y_pred, y_test, 'o')\n",
    "ax[0].set_xlabel(\"y_test\")\n",
    "ax[0].set_ylabel(\"y_pred\")\n",
    "ax[0].set_title(\"Test Set -Predicted vs real\")\n",
    "\n",
    "# Get a histogram of the residuals ie: y - y_pred.  Homoscdasticity\n",
    "# It resembles a normal distribution?\n",
    "ax[1].hist(y_test - y_pred)\n",
    "ax[1].set_xlabel(\"Test y-y_pred\")\n",
    "ax[1].set_title(\"Test Set Residual histogram\")\n",
    "\n",
    "ax[2].plot(y_pred,y_test - y_pred,\"o\")\n",
    "ax[2].set_xlabel(\"predited\")\n",
    "ax[2].set_ylabel(\"residuals\")\n",
    "ax[2].set_title(\"Residuals by Predicted\")\n",
    "ax[2].plot(y_pred,np.zeros(len(y_pred)),linestyle='dashed')"
   ]
  },
  {
   "cell_type": "markdown",
   "id": "1a531ce3",
   "metadata": {},
   "source": [
    "# using seaborn"
   ]
  },
  {
   "cell_type": "code",
   "execution_count": 83,
   "id": "7d00a2f4",
   "metadata": {},
   "outputs": [
    {
     "data": {
      "text/plain": [
       "<AxesSubplot:xlabel='y_pred', ylabel='y_test'>"
      ]
     },
     "execution_count": 83,
     "metadata": {},
     "output_type": "execute_result"
    },
    {
     "data": {
      "image/png": "[encoded data removed]",
      "text/plain": [
       "<Figure size 432x288 with 1 Axes>"
      ]
     },
     "metadata": {
      "needs_background": "light"
     },
     "output_type": "display_data"
    }
   ],
   "source": [
    "sns.regplot(x='y_pred',y='y_test', data=result, scatter_kws={\"color\": \"red\"}, line_kws={\"color\": \"black\"})"
   ]
  },
  {
   "cell_type": "markdown",
   "id": "2b337db3",
   "metadata": {},
   "source": [
    "# Error metrics\n",
    "\n",
    "# MSE"
   ]
  },
  {
   "cell_type": "code",
   "execution_count": 85,
   "id": "80133961",
   "metadata": {},
   "outputs": [
    {
     "name": "stdout",
     "output_type": "stream",
     "text": [
      "49355.42736294486\n",
      "151.89226829209807\n"
     ]
    }
   ],
   "source": [
    "print(mse(y_test,y_pred))\n",
    "print(mae(y_test,y_pred))"
   ]
  },
  {
   "cell_type": "code",
   "execution_count": 86,
   "id": "5933537d",
   "metadata": {},
   "outputs": [
    {
     "data": {
      "text/plain": [
       "51016.22118765793"
      ]
     },
     "execution_count": 86,
     "metadata": {},
     "output_type": "execute_result"
    }
   ],
   "source": [
    "##prediction on the train set\n",
    "mse(y_train,y_pred_train)"
   ]
  },
  {
   "cell_type": "markdown",
   "id": "9d092719",
   "metadata": {},
   "source": [
    "# RMSE"
   ]
  },
  {
   "cell_type": "code",
   "execution_count": 106,
   "id": "ddb5b7fa",
   "metadata": {},
   "outputs": [
    {
     "data": {
      "text/plain": [
       "225.8677072705568"
      ]
     },
     "execution_count": 106,
     "metadata": {},
     "output_type": "execute_result"
    }
   ],
   "source": [
    "rmse = mse(y_train,y_pred_train, squared = False)\n",
    "rmse"
   ]
  },
  {
   "cell_type": "markdown",
   "id": "f676a317",
   "metadata": {},
   "source": [
    "# MAE mean absolute error"
   ]
  },
  {
   "cell_type": "code",
   "execution_count": 112,
   "id": "44b863e3",
   "metadata": {},
   "outputs": [
    {
     "data": {
      "text/plain": [
       "153.10235288740222"
      ]
     },
     "execution_count": 112,
     "metadata": {},
     "output_type": "execute_result"
    }
   ],
   "source": [
    "mae(y_pred_train, y_train)"
   ]
  },
  {
   "cell_type": "markdown",
   "id": "2137304f",
   "metadata": {},
   "source": [
    "# R2"
   ]
  },
  {
   "cell_type": "code",
   "execution_count": 113,
   "id": "be5990ba",
   "metadata": {},
   "outputs": [
    {
     "data": {
      "text/plain": [
       "0.4083148964314819"
      ]
     },
     "execution_count": 113,
     "metadata": {},
     "output_type": "execute_result"
    }
   ],
   "source": [
    "R2=r2_score(y_test,y_pred)\n",
    "R2"
   ]
  },
  {
   "cell_type": "markdown",
   "id": "2c859010",
   "metadata": {},
   "source": [
    "# Adjusted R2"
   ]
  },
  {
   "cell_type": "code",
   "execution_count": 116,
   "id": "ad41153a",
   "metadata": {},
   "outputs": [],
   "source": [
    "R2_test=model.score(X_test_scaled,y_test)\n",
    "R2_train=model.score(X_train_scaled,y_train)"
   ]
  },
  {
   "cell_type": "code",
   "execution_count": 117,
   "id": "584115b1",
   "metadata": {},
   "outputs": [
    {
     "data": {
      "text/plain": [
       "0.40739067727564227"
      ]
     },
     "execution_count": 117,
     "metadata": {},
     "output_type": "execute_result"
    }
   ],
   "source": [
    "Adj_R2= 1 - (1-R2)*(len(y_test)-1)/(len(y_test)-X_test.shape[1]-1)\n",
    "Adj_R2"
   ]
  },
  {
   "cell_type": "markdown",
   "id": "b4581bf4",
   "metadata": {},
   "source": [
    "# getting the number of parameters"
   ]
  },
  {
   "cell_type": "code",
   "execution_count": 119,
   "id": "b892d394",
   "metadata": {},
   "outputs": [
    {
     "data": {
      "text/plain": [
       "5"
      ]
     },
     "execution_count": 119,
     "metadata": {},
     "output_type": "execute_result"
    }
   ],
   "source": [
    "X_test.shape[1]"
   ]
  },
  {
   "cell_type": "markdown",
   "id": "b74f6982",
   "metadata": {},
   "source": [
    "# Feature Importance."
   ]
  },
  {
   "cell_type": "code",
   "execution_count": 121,
   "id": "208aec57",
   "metadata": {},
   "outputs": [],
   "source": [
    "features_importances = pd.DataFrame(data={\n",
    "    'Attribute': X_train.columns,\n",
    "    'Importance': abs(model.coef_)\n",
    "})\n",
    "features_importances = features_importances.sort_values(by='Importance', ascending=False)"
   ]
  },
  {
   "cell_type": "code",
   "execution_count": 122,
   "id": "014164f6",
   "metadata": {},
   "outputs": [
    {
     "data": {
      "text/html": [
       "<div>\n",
       "<style scoped>\n",
       "    .dataframe tbody tr th:only-of-type {\n",
       "        vertical-align: middle;\n",
       "    }\n",
       "\n",
       "    .dataframe tbody tr th {\n",
       "        vertical-align: top;\n",
       "    }\n",
       "\n",
       "    .dataframe thead th {\n",
       "        text-align: right;\n",
       "    }\n",
       "</style>\n",
       "<table border=\"1\" class=\"dataframe\">\n",
       "  <thead>\n",
       "    <tr style=\"text-align: right;\">\n",
       "      <th></th>\n",
       "      <th>Attribute</th>\n",
       "      <th>Importance</th>\n",
       "    </tr>\n",
       "  </thead>\n",
       "  <tbody>\n",
       "    <tr>\n",
       "      <th>2</th>\n",
       "      <td>monthly_premium_auto</td>\n",
       "      <td>187.886803</td>\n",
       "    </tr>\n",
       "    <tr>\n",
       "      <th>1</th>\n",
       "      <td>income</td>\n",
       "      <td>33.117259</td>\n",
       "    </tr>\n",
       "    <tr>\n",
       "      <th>0</th>\n",
       "      <td>customer_lifetime_value</td>\n",
       "      <td>6.732063</td>\n",
       "    </tr>\n",
       "    <tr>\n",
       "      <th>3</th>\n",
       "      <td>months_since_last_claim</td>\n",
       "      <td>1.933703</td>\n",
       "    </tr>\n",
       "    <tr>\n",
       "      <th>4</th>\n",
       "      <td>months_since_policy_inception</td>\n",
       "      <td>0.875519</td>\n",
       "    </tr>\n",
       "  </tbody>\n",
       "</table>\n",
       "</div>"
      ],
      "text/plain": [
       "                       Attribute  Importance\n",
       "2           monthly_premium_auto  187.886803\n",
       "1                         income   33.117259\n",
       "0        customer_lifetime_value    6.732063\n",
       "3        months_since_last_claim    1.933703\n",
       "4  months_since_policy_inception    0.875519"
      ]
     },
     "execution_count": 122,
     "metadata": {},
     "output_type": "execute_result"
    }
   ],
   "source": [
    "features_importances"
   ]
  },
  {
   "cell_type": "code",
   "execution_count": 123,
   "id": "eae4d4f2",
   "metadata": {},
   "outputs": [
    {
     "data": {
      "image/png": "[encoded data removed]",
      "text/plain": [
       "<Figure size 432x288 with 1 Axes>"
      ]
     },
     "metadata": {
      "needs_background": "light"
     },
     "output_type": "display_data"
    }
   ],
   "source": [
    "plt.bar(x=features_importances['Attribute'], height=features_importances['Importance'], color='#087E8B')\n",
    "plt.title('Feature importances obtained from coefficients', size=20)\n",
    "plt.xticks(rotation='vertical')\n",
    "plt.show()"
   ]
  },
  {
   "cell_type": "code",
   "execution_count": null,
   "id": "44585a86",
   "metadata": {},
   "outputs": [],
   "source": []
  }
 ],
 "metadata": {
  "kernelspec": {
   "display_name": "Python 3 (ipykernel)",
   "language": "python",
   "name": "python3"
  },
  "language_info": {
   "codemirror_mode": {
    "name": "ipython",
    "version": 3
   },
   "file_extension": ".py",
   "mimetype": "text/x-python",
   "name": "python",
   "nbconvert_exporter": "python",
   "pygments_lexer": "ipython3",
   "version": "3.9.13"
  }
 },
 "nbformat": 4,
 "nbformat_minor": 5
}
